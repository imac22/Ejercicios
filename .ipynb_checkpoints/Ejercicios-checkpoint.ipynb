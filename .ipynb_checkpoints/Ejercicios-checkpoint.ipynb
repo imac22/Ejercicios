{
 "cells": [
  {
   "cell_type": "markdown",
   "metadata": {
    "_cell_guid": "b1076dfc-b9ad-4769-8c92-a6c4dae69d19",
    "_uuid": "8f2839f25d086af736a60e9eeb907d3b93b6e0e5"
   },
   "source": [
    "## **9.Sólo para practicar**. Los números telefónicos en la ciudad de Cuernavaca, Morelos, constan de siete dígitos.\n",
    "\n"
   ]
  },
  {
   "cell_type": "markdown",
   "metadata": {},
   "source": [
    "#### a) ¿Cuántas líneas telefónicas pueden crearse en esa ciudad? Recuerda que no pueden comenzar con cero."
   ]
  },
  {
   "cell_type": "markdown",
   "metadata": {},
   "source": [
    "Para calcular el número de líneas telefónicas que pueden crearse en Cuernavaca, Morelos, con números de 7 dígitos que no pueden comenzar con 0, podemos seguir estos pasos:\n",
    "\n",
    "1. Hay 9 dígitos posibles para el primer dígito (1-9).\n",
    "2. Después del primer dígito, hay 10 dígitos posibles para cada uno de los siguientes 6 dígitos (0 9).\n",
    "\n",
    "Entonces, la fórmula para calcular el número total de combinaciones posibles sería:\n",
    "\n",
    "$$P(n, r) = n^r$$\n",
    "\n",
    "donde \\( n \\) es el número total de opciones para cada posición y \\( r \\) es el número de posiciones.\n",
    "\n",
    "1. **Elección del primer dígito:** Hay 9 opciones (1 al 9).\n",
    "2. **Elección de los siguientes seis dígitos:** Hay 10 opciones para cada uno.\n",
    "\n",
    "Entonces, utilizando la fórmula de permutaciones:\n",
    "\n",
    "$$ P(9, 1) \\times P(10, 6)$$\n",
    "\n",
    "Calculamos cada parte:\n",
    "\n",
    "$$ P(9, 1) = 9^1 = 9$$\n",
    "$$ P(10, 6) = 10^6 = 1000000 $$\n",
    "\n",
    "Entonces, el número total de líneas telefónicas posibles es:\n",
    "\n",
    "$$9 \\times 1000000 = 9,000,000$$\n",
    "\n",
    "Así que hay **9,000,000** líneas telefónicas posibles en Cuernavaca, Morelos."
   ]
  },
  {
   "cell_type": "code",
   "execution_count": 1,
   "metadata": {
    "execution": {
     "iopub.execute_input": "2024-06-27T17:41:29.409616Z",
     "iopub.status.busy": "2024-06-27T17:41:29.409240Z",
     "iopub.status.idle": "2024-06-27T17:41:29.416950Z",
     "shell.execute_reply": "2024-06-27T17:41:29.415724Z",
     "shell.execute_reply.started": "2024-06-27T17:41:29.409589Z"
    }
   },
   "outputs": [
    {
     "name": "stdout",
     "output_type": "stream",
     "text": [
      "Asi que hay  9000000  de Lineas telefonicas posibles en Cuernavaca,Morelos\n"
     ]
    }
   ],
   "source": [
    "n = 9\n",
    "r = 1\n",
    "n2 = 10\n",
    "r2 = 6\n",
    "permutacion1 = n**r\n",
    "permutacion2 = n2**r2\n",
    "print(\"Asi que hay \",permutacion1 * permutacion2,\" de Lineas telefonicas posibles en Cuernavaca,Morelos\")\n"
   ]
  },
  {
   "cell_type": "markdown",
   "metadata": {},
   "source": [
    "#### b) Si los tres primeros dígitos representan una zona de Cuernavaca, ¿cuántas líneas telefónicas pertenecen a la zona 326?\n"
   ]
  },
  {
   "cell_type": "markdown",
   "metadata": {},
   "source": [
    "Para resolver este inciso, debemos considerar que los tres primeros dígitos representan una zona específica. En el caso de la zona 326, el rango de números telefónicos posibles sería del \n",
    "\n",
    "$326-0000$ al $326-9999$.\n",
    "\n",
    "El número total de líneas telefónicas que pertenecen a la zona 326 se calcula de la siguiente manera:\n",
    "$$326-XXXX$$\n",
    "\n",
    "1. En las 4 posiciones disponibles tenemos 10 posibles opciones diferentes de colocar un numero que va del 0-9\n",
    "$$326-(0-9)(0-9)(0-9)(0-9)$$\n",
    "\n",
    "Entonces, la fórmula para calcular el número total de combinaciones posibles sería:\n",
    "\n",
    "$$P(n, r) = n^r$$\n",
    "\n",
    "donde \\( n \\) es el número total de opciones para cada posición y \\( r \\) es el número de posiciones.\n",
    "\n",
    "n = 10\n",
    "\n",
    "r = 4\n",
    "\n",
    "$$P(10, 4) = 10^4 = 10,000$$\n",
    "\n",
    "Por lo tanto, en la zona 326 de Cuernavaca, Morelos, existen 10,000 líneas telefónicas."
   ]
  },
  {
   "cell_type": "code",
   "execution_count": 3,
   "metadata": {},
   "outputs": [
    {
     "name": "stdout",
     "output_type": "stream",
     "text": [
      "Asi que hay  10000  Lineas telefonicas posibles en Cuernavaca,Morelos de la zona 326\n"
     ]
    }
   ],
   "source": [
    "n = 10\n",
    "r = 4\n",
    "permutacion1 = n**r\n",
    "print(\"Asi que hay \",permutacion1,\" Lineas telefonicas posibles en Cuernavaca,Morelos de la zona 326\")\n"
   ]
  },
  {
   "cell_type": "markdown",
   "metadata": {},
   "source": [
    "## **10.solo para practicar.** Se tiene la palabra MURCIÉLAGO. Si no se permiten repeticiones al usar las letras que la forman, determina:"
   ]
  },
  {
   "cell_type": "markdown",
   "metadata": {},
   "source": [
    "\n",
    "#### a) El número de palabras que puedes crear sin repetir letras:\n",
    "\n",
    "La palabra \"MURCIÉLAGO\" tiene 10 letras distintas: M, U, R, C, I, É, L, A, G, O.\n",
    "\n",
    "Para calcular el número de palabras que se pueden formar sin repetir letras, podemos utilizar la fórmula de permutaciones:\n",
    "\n",
    "$$P(n,r) = \\frac{n!}{(n-r)!}$$\n",
    "\n",
    "Donde:\n",
    "- $n$ es el número total de letras (10 en este caso)\n",
    "- $r$ es el número de letras a utilizar en cada palabra\n",
    "\n",
    "Entonces, el número de palabras que se pueden crear sin repetir letras es:\n",
    "\n",
    "$$P(10,10) = \\frac{10!}{(10-10)!} = \\frac{10!}{0!} = 10! = 3628800$$"
   ]
  },
  {
   "cell_type": "code",
   "execution_count": 1,
   "metadata": {},
   "outputs": [
    {
     "name": "stdout",
     "output_type": "stream",
     "text": [
      "a) El número de palabras que se pueden crear sin repetir letras es: 3628800\n"
     ]
    }
   ],
   "source": [
    "from math import factorial\n",
    "\n",
    "# a) Número de palabras que se pueden crear sin repetir letras\n",
    "letras = \"MURCIÉLAGO\"\n",
    "n = len(letras)\n",
    "num_palabras = factorial(n)\n",
    "print(f\"a) El número de palabras que se pueden crear sin repetir letras es: {num_palabras}\")\n"
   ]
  },
  {
   "cell_type": "markdown",
   "metadata": {},
   "source": [
    "#### b) El número de palabras con cinco letras:\n",
    "\n",
    "Para calcular el número de palabras de cinco letras, usamos la misma fórmula de permutaciones, pero con $r=5$:\n",
    "\n",
    "$$P(10,5) = \\frac{10!}{(10-5)!} = \\frac{10!}{5!} = 30240$$"
   ]
  },
  {
   "cell_type": "code",
   "execution_count": 7,
   "metadata": {},
   "outputs": [
    {
     "name": "stdout",
     "output_type": "stream",
     "text": [
      "b) El número de palabras con cinco letras es: 30240\n"
     ]
    }
   ],
   "source": [
    "# b) Número de palabras con cinco letras\n",
    "n = 10  # Total letters (a-z)\n",
    "r = 5   # Number of letters in the word\n",
    "\n",
    "num_5_letter_words = factorial(n) // factorial(n-r)\n",
    "\n",
    "def factorial(n):\n",
    "    result = 1\n",
    "    for i in range(1, n+1):\n",
    "        result *= i\n",
    "    return result\n",
    "print(f\"b) El número de palabras con cinco letras es: {num_5_letter_words}\")\n"
   ]
  },
  {
   "cell_type": "markdown",
   "metadata": {},
   "source": [
    "#### c) La probabilidad de que una palabra de cinco letras termine en vocal:\n",
    "\n",
    "Las vocales en la palabra \"MURCIÉLAGO\" son: A, E, I, O, U.\n",
    "\n",
    "Entonces, hay 5 letras vocales de un total de 10 letras.\n",
    "\n",
    "La probabilidad de que una palabra de cinco letras termine en vocal es:\n",
    "\n",
    "$$P(\\text{palabra de 5 letras termina en vocal}) = \\frac{\\text{número de palabras de 5 letras que terminan en vocal}}{\\text{número total de palabras de 5 letras}}$$\n",
    "\n",
    "Donde el número de palabras de 5 letras que terminan en vocal es:\n",
    "\n",
    "$$P(5,4) = \\frac{5!}{(5-4)!} = \\frac{5!}{1!} = 120$$\n",
    "\n",
    "Y el número total de palabras de 5 letras es:\n",
    "\n",
    "$$P(10,5) = \\frac{10!}{(10-5)!} = \\frac{10!}{5!} = 30240$$\n",
    "\n",
    "Por lo tanto, la probabilidad es:\n",
    "\n",
    "$$P(\\text{palabra de 5 letras termina en vocal}) = \\frac{120}{30240} \\approx 0.003968 = 0.40\\%$$"
   ]
  },
  {
   "cell_type": "code",
   "execution_count": 1,
   "metadata": {},
   "outputs": [
    {
     "name": "stdout",
     "output_type": "stream",
     "text": [
      "La probabilidad de que una palabra de 5 letras termine en vocal es aproximadamente: 0.40%\n"
     ]
    }
   ],
   "source": [
    "\n",
    "# c) Probabilidad de que una palabra de cinco letras termine en vocal\n",
    "vocal = 120\n",
    "num_palabras = 30240\n",
    "probabilidad = vocal/num_palabras\n",
    "print(f\"La probabilidad de que una palabra de 5 letras termine en vocal es aproximadamente: {probabilidad:.2%}\")\n"
   ]
  },
  {
   "cell_type": "markdown",
   "metadata": {},
   "source": [
    "# Ejercicio 11"
   ]
  },
  {
   "cell_type": "markdown",
   "metadata": {},
   "source": [
    "11. Parque vehicular. La Ciudad de México tiene placas de automóviles con tres números seguidos por tres letras, es decir, son placas del tipo 999-AAA. Sin embargo, no pueden empezar con 0 (cero) ni se utilizan las letras I, O, Q y Ñ.\n",
    "\n",
    "a) ¿Cuántas placas diferentes son posibles?\n",
    "\n",
    "b) ¿Cuántas placas diferentes terminan en vocal?\n",
    "\n",
    "c) ¿Cuál es la probabilidad de que una placa, elegida al azar, sea impar?\n",
    "\n",
    "d) De acuerdo con el resultado obtenido en el inciso (a), abre un debate acerca de las consecuencias que traería consigo tener ese número de vehículos circulando en la ciudad. Además, realicen propuestas para mejorar los problemas de circulación vial que se viven en las grandes ciudades."
   ]
  },
  {
   "cell_type": "markdown",
   "metadata": {},
   "source": [
    "\n",
    "La fórmula de combinaciones se aplica de la siguiente manera:\n",
    "\n",
    "Hay 9 posibles dígitos numéricos (0-9), de los cuales se eligen 3.\n",
    "Hay 22 posibles letras (excluyendo las letras I, O, Q y Ñ.), de las cuales se eligen 3.\n",
    "Multiplicando las combinaciones de los dígitos y las letras obtenemos el total de placas diferentes posibles.\n",
    "\n",
    "\\begin{align}\n",
    "\\text{Fórmula: } 9^3 \\times 22^3\n",
    "\\end{align}\n",
    "\n",
    "$$\n",
    "\\begin{align}\n",
    "9^3 \\times 22^3 &= (9 \\times 9 \\times 9) \\times (22 \\times 22 \\times 22) \\ \\\\\n",
    "&= 729 \\times 10,648 \\ \\\\\n",
    "&= 7,762,392\n",
    "\\end{align}\n",
    "$$\n",
    "\n",
    "Por lo tanto se pueden formar *7,762,392* combinaciones de placas."
   ]
  },
  {
   "cell_type": "markdown",
   "metadata": {},
   "source": [
    "\n",
    "La fórmula de combinaciones se aplica a las 3 letras finales, ya que hay 17 letras vocales posibles (A, E, I, O, U) de las cuales se eligen 3.\n",
    "\n",
    "\\begin{align}\n",
    "\\text{Fórmula: } 5 \\times 17^3\n",
    "\\end{align}\n",
    "\n",
    "$$\n",
    "\\begin{align}\n",
    "5 \\times 17^3 &= 5 \\times (17 \\times 17 \\times 17) \\ \\\\\n",
    "&= 5 \\times 4,913 \\ \\\\\n",
    "&= 24,565\n",
    "\\end{align}\n",
    "$$\n",
    "\n",
    "Por lo tanto se pueden formar *24,565* combinaciones de placas que terminan en vocal."
   ]
  },
  {
   "cell_type": "code",
   "execution_count": 4,
   "metadata": {},
   "outputs": [
    {
     "name": "stdout",
     "output_type": "stream",
     "text": [
      "a): 7762392 combinaciones de placas\n",
      "b): 24565 placas terminan en vocal\n",
      "c): 0.0016% es la probabilidad de que una placa elegida al azar sea impar\n"
     ]
    }
   ],
   "source": [
    "import math as m\n",
    "\n",
    "# Implementacion de la solucion del inciso a) del ejercicio 11\n",
    "n = 9 ** 3\n",
    "letras = 22 ** 3\n",
    "a = n * letras\n",
    "\n",
    "# Implementacion de la solucion del inciso b) del ejercicio 11\n",
    "vocales = ['A', 'E', 'I', 'O', 'U']\n",
    "nCons = 22 - len(vocales)\n",
    "b = len(vocales) * nCons ** 3\n",
    "\n",
    "# Implementacion de la solucion del inciso c) del ejercicio 11\n",
    "digitos_impares = 5 ** 3\n",
    "c = (digitos_impares / a) * 100\n",
    "\n",
    "\n",
    "print(f\"a): {a} combinaciones de placas\")\n",
    "print(f\"b): {b} placas terminan en vocal\")\n",
    "print(f\"c): {c:.4f}% es la probabilidad de que una placa elegida al azar sea impar\")\n"
   ]
  },
  {
   "cell_type": "markdown",
   "metadata": {},
   "source": [
    "# Ejercicio 12"
   ]
  },
  {
   "cell_type": "markdown",
   "metadata": {},
   "source": [
    "12. Servicios restauranteros.Una cadena de hamburguesas anuncia que se ofrecen 512 manerasde pedir una hamburguesa. Un cliente puede elegir cualquiera de estos ingredientes: cátsup, mostaza, mayonesa, aderezo de la casa, cebolla, pepinillos, jitomate, tocino y lechuga. ¿Crees que lo que afirma la empresa sea cierto? Justifica tu respuesta."
   ]
  },
  {
   "cell_type": "markdown",
   "metadata": {},
   "source": [
    "Dado que hay 9 ingredientes en total (n = 9), y se puede seleccionar cualquier número de ellos (r puede variar de 0 a 9), aplicamos la sumatoria de combinaciones:\n",
    "\n",
    "$$\n",
    "\\begin{align}\n",
    "    _\\Sigma (_9C_r)\\\\\n",
    "    _nC_r &= \\dfrac{n!}{r!(n - r)!}\\\\ \n",
    "    _9C_0 &= \\dfrac{9!}{0!(9 - 0)!} = 1\\\\\n",
    "    _9C_1 &= \\dfrac{9!}{1!(9 - 1)!} = 9\\\\\n",
    "    _9C_2 &= \\dfrac{9!}{2!(9 - 2)!} = 36\\\\\n",
    "    _9C_3 &= \\dfrac{9!}{3!(9 - 3)!} = 84\\\\\n",
    "    _9C_4 &= \\dfrac{9!}{4!(9 - 4)!} = 126\\\\\n",
    "    _9C_5 &= \\dfrac{9!}{5!(9 - 5)!} = 126\\\\\n",
    "    _9C_6 &= \\dfrac{9!}{6!(9 - 6)!} = 84\\\\\n",
    "    _9C_7 &= \\dfrac{9!}{7!(9 - 7)!} = 36\\\\\n",
    "    _9C_8 &= \\dfrac{9!}{8!(9 - 8)!} = 9\\\\\n",
    "    _9C_9 &= \\dfrac{9!}{9!(9 - 9)!} = 1\\\\\n",
    "    &= 1 + 9 + 36 + 84 + 126 + 126 + 84 + 36 + 9 + 1 = 512\n",
    "\\end{align}\n",
    "$$\n",
    "\n",
    "Por lo tanto se pueden formar *512* combinaciones de hamburguesas."
   ]
  },
  {
   "cell_type": "code",
   "execution_count": 6,
   "metadata": {},
   "outputs": [
    {
     "name": "stdout",
     "output_type": "stream",
     "text": [
      "Hay 512 combinaciones de hamburguesas\n"
     ]
    }
   ],
   "source": [
    "# Implementacion de la solucion del ejercicio 12\n",
    "\n",
    "from math import factorial\n",
    "\n",
    "def com(n, r):\n",
    "    return factorial(n) // (factorial(r) * factorial(n-r))\n",
    "\n",
    "to_com = 0\n",
    "for r in range(10):\n",
    "    to_com += com(9, r)\n",
    "print(f\"Hay {int(to_com)} combinaciones de hamburguesas\")\n",
    "\n"
   ]
  },
  {
   "cell_type": "code",
   "execution_count": null,
   "metadata": {},
   "outputs": [],
   "source": []
  }
 ],
 "metadata": {
  "kaggle": {
   "accelerator": "none",
   "dataSources": [],
   "dockerImageVersionId": 30732,
   "isGpuEnabled": false,
   "isInternetEnabled": false,
   "language": "python",
   "sourceType": "notebook"
  },
  "kernelspec": {
   "display_name": "Python 3 (ipykernel)",
   "language": "python",
   "name": "python3"
  },
  "language_info": {
   "codemirror_mode": {
    "name": "ipython",
    "version": 3
   },
   "file_extension": ".py",
   "mimetype": "text/x-python",
   "name": "python",
   "nbconvert_exporter": "python",
   "pygments_lexer": "ipython3",
   "version": "3.11.4"
  }
 },
 "nbformat": 4,
 "nbformat_minor": 4
}
