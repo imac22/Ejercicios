{
 "cells": [
  {
   "cell_type": "markdown",
   "metadata": {
    "_cell_guid": "b1076dfc-b9ad-4769-8c92-a6c4dae69d19",
    "_uuid": "8f2839f25d086af736a60e9eeb907d3b93b6e0e5"
   },
   "source": [
    "## **9.Sólo para practicar**. Los números telefónicos en la ciudad de Cuernavaca, Morelos, constan de siete dígitos.\n",
    "\n"
   ]
  },
  {
   "cell_type": "markdown",
   "metadata": {},
   "source": [
    "#### a) ¿Cuántas líneas telefónicas pueden crearse en esa ciudad? Recuerda que no pueden comenzar con cero."
   ]
  },
  {
   "cell_type": "markdown",
   "metadata": {},
   "source": [
    "Para calcular el número de líneas telefónicas que pueden crearse en Cuernavaca, Morelos, con números de 7 dígitos que no pueden comenzar con 0, podemos seguir estos pasos:\n",
    "\n",
    "1. Hay 9 dígitos posibles para el primer dígito (1-9).\n",
    "2. Después del primer dígito, hay 10 dígitos posibles para cada uno de los siguientes 6 dígitos (0 9).\n",
    "\n",
    "Entonces, la fórmula para calcular el número total de combinaciones posibles sería:\n",
    "\n",
    "$$P(n, r) = n^r$$\n",
    "\n",
    "donde \\( n \\) es el número total de opciones para cada posición y \\( r \\) es el número de posiciones.\n",
    "\n",
    "1. **Elección del primer dígito:** Hay 9 opciones (1 al 9).\n",
    "2. **Elección de los siguientes seis dígitos:** Hay 10 opciones para cada uno.\n",
    "\n",
    "Entonces, utilizando la fórmula de permutaciones:\n",
    "\n",
    "$$ P(9, 1) \\times P(10, 6)$$\n",
    "\n",
    "Calculamos cada parte:\n",
    "\n",
    "$$ P(9, 1) = 9^1 = 9$$\n",
    "$$ P(10, 6) = 10^6 = 1000000 $$\n",
    "\n",
    "Entonces, el número total de líneas telefónicas posibles es:\n",
    "\n",
    "$$9 \\times 1000000 = 9,000,000$$\n",
    "\n",
    "Así que hay **9,000,000** líneas telefónicas posibles en Cuernavaca, Morelos."
   ]
  },
  {
   "cell_type": "code",
   "execution_count": 1,
   "metadata": {
    "execution": {
     "iopub.execute_input": "2024-06-27T17:41:29.409616Z",
     "iopub.status.busy": "2024-06-27T17:41:29.409240Z",
     "iopub.status.idle": "2024-06-27T17:41:29.416950Z",
     "shell.execute_reply": "2024-06-27T17:41:29.415724Z",
     "shell.execute_reply.started": "2024-06-27T17:41:29.409589Z"
    }
   },
   "outputs": [
    {
     "name": "stdout",
     "output_type": "stream",
     "text": [
      "Asi que hay  9000000  de Lineas telefonicas posibles en Cuernavaca,Morelos\n"
     ]
    }
   ],
   "source": [
    "n = 9\n",
    "r = 1\n",
    "n2 = 10\n",
    "r2 = 6\n",
    "permutacion1 = n**r\n",
    "permutacion2 = n2**r2\n",
    "print(\"Asi que hay \",permutacion1 * permutacion2,\" de Lineas telefonicas posibles en Cuernavaca,Morelos\")\n"
   ]
  },
  {
   "cell_type": "markdown",
   "metadata": {},
   "source": [
    "#### b) Si los tres primeros dígitos representan una zona de Cuernavaca, ¿cuántas líneas telefónicas pertenecen a la zona 326?\n"
   ]
  },
  {
   "cell_type": "markdown",
   "metadata": {},
   "source": [
    "Para resolver este inciso, debemos considerar que los tres primeros dígitos representan una zona específica. En el caso de la zona 326, el rango de números telefónicos posibles sería del \n",
    "\n",
    "$326-0000$ al $326-9999$.\n",
    "\n",
    "El número total de líneas telefónicas que pertenecen a la zona 326 se calcula de la siguiente manera:\n",
    "$$326-XXXX$$\n",
    "\n",
    "1. En las 4 posiciones disponibles tenemos 10 posibles opciones diferentes de colocar un numero que va del 0-9\n",
    "$$326-(0-9)(0-9)(0-9)(0-9)$$\n",
    "\n",
    "Entonces, la fórmula para calcular el número total de combinaciones posibles sería:\n",
    "\n",
    "$$P(n, r) = n^r$$\n",
    "\n",
    "donde \\( n \\) es el número total de opciones para cada posición y \\( r \\) es el número de posiciones.\n",
    "\n",
    "n = 10\n",
    "\n",
    "r = 4\n",
    "\n",
    "$$P(10, 4) = 10^4 = 10,000$$\n",
    "\n",
    "Por lo tanto, en la zona 326 de Cuernavaca, Morelos, existen 10,000 líneas telefónicas."
   ]
  },
  {
   "cell_type": "code",
   "execution_count": 3,
   "metadata": {},
   "outputs": [
    {
     "name": "stdout",
     "output_type": "stream",
     "text": [
      "Asi que hay  10000  Lineas telefonicas posibles en Cuernavaca,Morelos de la zona 326\n"
     ]
    }
   ],
   "source": [
    "n = 10\n",
    "r = 4\n",
    "permutacion1 = n**r\n",
    "print(\"Asi que hay \",permutacion1,\" Lineas telefonicas posibles en Cuernavaca,Morelos de la zona 326\")\n"
   ]
  },
  {
   "cell_type": "markdown",
   "metadata": {},
   "source": [
    "## **10.solo para practicar.** Se tiene la palabra MURCIÉLAGO. Si no se permiten repeticiones al usar las letras que la forman, determina:"
   ]
  },
  {
   "cell_type": "markdown",
   "metadata": {},
   "source": [
    "\n",
    "#### a) El número de palabras que puedes crear sin repetir letras:\n",
    "\n",
    "La palabra \"MURCIÉLAGO\" tiene 10 letras distintas: M, U, R, C, I, É, L, A, G, O.\n",
    "\n",
    "Para calcular el número de palabras que se pueden formar sin repetir letras, podemos utilizar la fórmula de permutaciones:\n",
    "\n",
    "$$P(n,r) = \\frac{n!}{(n-r)!}$$\n",
    "\n",
    "Donde:\n",
    "- $n$ es el número total de letras (10 en este caso)\n",
    "- $r$ es el número de letras a utilizar en cada palabra\n",
    "\n",
    "Entonces, el número de palabras que se pueden crear sin repetir letras es:\n",
    "\n",
    "$$P(10,10) = \\frac{10!}{(10-10)!} = \\frac{10!}{0!} = 10! = 3628800$$"
   ]
  },
  {
   "cell_type": "code",
   "execution_count": 1,
   "metadata": {},
   "outputs": [
    {
     "name": "stdout",
     "output_type": "stream",
     "text": [
      "a) El número de palabras que se pueden crear sin repetir letras es: 3628800\n"
     ]
    }
   ],
   "source": [
    "from math import factorial\n",
    "\n",
    "# a) Número de palabras que se pueden crear sin repetir letras\n",
    "letras = \"MURCIÉLAGO\"\n",
    "n = len(letras)\n",
    "num_palabras = factorial(n)\n",
    "print(f\"a) El número de palabras que se pueden crear sin repetir letras es: {num_palabras}\")\n"
   ]
  },
  {
   "cell_type": "markdown",
   "metadata": {},
   "source": [
    "#### b) El número de palabras con cinco letras:\n",
    "\n",
    "Para calcular el número de palabras de cinco letras, usamos la misma fórmula de permutaciones, pero con $r=5$:\n",
    "\n",
    "$$P(10,5) = \\frac{10!}{(10-5)!} = \\frac{10!}{5!} = 30240$$"
   ]
  },
  {
   "cell_type": "code",
   "execution_count": 7,
   "metadata": {},
   "outputs": [
    {
     "name": "stdout",
     "output_type": "stream",
     "text": [
      "b) El número de palabras con cinco letras es: 30240\n"
     ]
    }
   ],
   "source": [
    "# b) Número de palabras con cinco letras\n",
    "n = 10  # Total letters (a-z)\n",
    "r = 5   # Number of letters in the word\n",
    "\n",
    "num_5_letter_words = factorial(n) // factorial(n-r)\n",
    "\n",
    "def factorial(n):\n",
    "    result = 1\n",
    "    for i in range(1, n+1):\n",
    "        result *= i\n",
    "    return result\n",
    "print(f\"b) El número de palabras con cinco letras es: {num_5_letter_words}\")\n"
   ]
  },
  {
   "cell_type": "markdown",
   "metadata": {},
   "source": [
    "#### c) La probabilidad de que una palabra de cinco letras termine en vocal:\n",
    "\n",
    "Las vocales en la palabra \"MURCIÉLAGO\" son: A, E, I, O, U.\n",
    "\n",
    "Entonces, hay 5 letras vocales de un total de 10 letras.\n",
    "\n",
    "La probabilidad de que una palabra de cinco letras termine en vocal es:\n",
    "\n",
    "$$P(\\text{palabra de 5 letras termina en vocal}) = \\frac{\\text{número de palabras de 5 letras que terminan en vocal}}{\\text{número total de palabras de 5 letras}}$$\n",
    "\n",
    "Donde el número de palabras de 5 letras que terminan en vocal es:\n",
    "\n",
    "$$P(5,4) = \\frac{5!}{(5-4)!} = \\frac{5!}{1!} = 120$$\n",
    "\n",
    "Y el número total de palabras de 5 letras es:\n",
    "\n",
    "$$P(10,5) = \\frac{10!}{(10-5)!} = \\frac{10!}{5!} = 30240$$\n",
    "\n",
    "Por lo tanto, la probabilidad es:\n",
    "\n",
    "$$P(\\text{palabra de 5 letras termina en vocal}) = \\frac{120}{30240} \\approx 0.003968 = 0.40\\%$$"
   ]
  },
  {
   "cell_type": "code",
   "execution_count": 1,
   "metadata": {},
   "outputs": [
    {
     "name": "stdout",
     "output_type": "stream",
     "text": [
      "La probabilidad de que una palabra de 5 letras termine en vocal es aproximadamente: 0.40%\n"
     ]
    }
   ],
   "source": [
    "\n",
    "# c) Probabilidad de que una palabra de cinco letras termine en vocal\n",
    "vocal = 120\n",
    "num_palabras = 30240\n",
    "probabilidad = vocal/num_palabras\n",
    "print(f\"La probabilidad de que una palabra de 5 letras termine en vocal es aproximadamente: {probabilidad:.2%}\")\n"
   ]
  },
  {
   "cell_type": "markdown",
   "metadata": {},
   "source": [
    "# Ejercicio 11"
   ]
  },
  {
   "cell_type": "markdown",
   "metadata": {},
   "source": [
    "11. Parque vehicular. La Ciudad de México tiene placas de automóviles con tres números seguidos por tres letras, es decir, son placas del tipo 999-AAA. Sin embargo, no pueden empezar con 0 (cero) ni se utilizan las letras I, O, Q y Ñ.\n",
    "\n",
    "a) ¿Cuántas placas diferentes son posibles?\n",
    "\n",
    "b) ¿Cuántas placas diferentes terminan en vocal?\n",
    "\n",
    "c) ¿Cuál es la probabilidad de que una placa, elegida al azar, sea impar?\n",
    "\n",
    "d) De acuerdo con el resultado obtenido en el inciso (a), abre un debate acerca de las consecuencias que traería consigo tener ese número de vehículos circulando en la ciudad. Además, realicen propuestas para mejorar los problemas de circulación vial que se viven en las grandes ciudades."
   ]
  },
  {
   "cell_type": "markdown",
   "metadata": {},
   "source": [
    "\n",
    "La fórmula de combinaciones se aplica de la siguiente manera:\n",
    "\n",
    "Hay 9 posibles dígitos numéricos (0-9), de los cuales se eligen 3.\n",
    "Hay 22 posibles letras (excluyendo las letras I, O, Q y Ñ.), de las cuales se eligen 3.\n",
    "Multiplicando las combinaciones de los dígitos y las letras obtenemos el total de placas diferentes posibles.\n",
    "\n",
    "\\begin{align}\n",
    "\\text{Fórmula: } 9^3 \\times 22^3\n",
    "\\end{align}\n",
    "\n",
    "$$\n",
    "\\begin{align}\n",
    "9^3 \\times 22^3 &= (9 \\times 9 \\times 9) \\times (22 \\times 22 \\times 22) \\ \\\\\n",
    "&= 729 \\times 10,648 \\ \\\\\n",
    "&= 7,762,392\n",
    "\\end{align}\n",
    "$$\n",
    "\n",
    "Por lo tanto se pueden formar *7,762,392* combinaciones de placas."
   ]
  },
  {
   "cell_type": "markdown",
   "metadata": {},
   "source": [
    "\n",
    "La fórmula de combinaciones se aplica a las 3 letras finales, ya que hay 17 letras vocales posibles (A, E, I, O, U) de las cuales se eligen 3.\n",
    "\n",
    "\\begin{align}\n",
    "\\text{Fórmula: } 5 \\times 17^3\n",
    "\\end{align}\n",
    "\n",
    "$$\n",
    "\\begin{align}\n",
    "5 \\times 17^3 &= 5 \\times (17 \\times 17 \\times 17) \\ \\\\\n",
    "&= 5 \\times 4,913 \\ \\\\\n",
    "&= 24,565\n",
    "\\end{align}\n",
    "$$\n",
    "\n",
    "Por lo tanto se pueden formar *24,565* combinaciones de placas que terminan en vocal."
   ]
  },
  {
   "cell_type": "code",
   "execution_count": 4,
   "metadata": {},
   "outputs": [
    {
     "name": "stdout",
     "output_type": "stream",
     "text": [
      "a): 7762392 combinaciones de placas\n",
      "b): 24565 placas terminan en vocal\n",
      "c): 0.0016% es la probabilidad de que una placa elegida al azar sea impar\n"
     ]
    }
   ],
   "source": [
    "import math as m\n",
    "\n",
    "# Implementacion de la solucion del inciso a) del ejercicio 11\n",
    "n = 9 ** 3\n",
    "letras = 22 ** 3\n",
    "a = n * letras\n",
    "\n",
    "# Implementacion de la solucion del inciso b) del ejercicio 11\n",
    "vocales = ['A', 'E', 'I', 'O', 'U']\n",
    "nCons = 22 - len(vocales)\n",
    "b = len(vocales) * nCons ** 3\n",
    "\n",
    "# Implementacion de la solucion del inciso c) del ejercicio 11\n",
    "digitos_impares = 5 ** 3\n",
    "c = (digitos_impares / a) * 100\n",
    "\n",
    "\n",
    "print(f\"a): {a} combinaciones de placas\")\n",
    "print(f\"b): {b} placas terminan en vocal\")\n",
    "print(f\"c): {c:.4f}% es la probabilidad de que una placa elegida al azar sea impar\")\n"
   ]
  },
  {
   "cell_type": "markdown",
   "metadata": {},
   "source": [
    "# Ejercicio 12"
   ]
  },
  {
   "cell_type": "markdown",
   "metadata": {},
   "source": [
    "12. Servicios restauranteros.Una cadena de hamburguesas anuncia que se ofrecen 512 manerasde pedir una hamburguesa. Un cliente puede elegir cualquiera de estos ingredientes: cátsup, mostaza, mayonesa, aderezo de la casa, cebolla, pepinillos, jitomate, tocino y lechuga. ¿Crees que lo que afirma la empresa sea cierto? Justifica tu respuesta."
   ]
  },
  {
   "cell_type": "markdown",
   "metadata": {},
   "source": [
    "Dado que hay 9 ingredientes en total (n = 9), y se puede seleccionar cualquier número de ellos (r puede variar de 0 a 9), aplicamos la sumatoria de combinaciones:\n",
    "\n",
    "$$\n",
    "\\begin{align}\n",
    "    _\\Sigma (_9C_r)\\\\\n",
    "    _nC_r &= \\dfrac{n!}{r!(n - r)!}\\\\ \n",
    "    _9C_0 &= \\dfrac{9!}{0!(9 - 0)!} = 1\\\\\n",
    "    _9C_1 &= \\dfrac{9!}{1!(9 - 1)!} = 9\\\\\n",
    "    _9C_2 &= \\dfrac{9!}{2!(9 - 2)!} = 36\\\\\n",
    "    _9C_3 &= \\dfrac{9!}{3!(9 - 3)!} = 84\\\\\n",
    "    _9C_4 &= \\dfrac{9!}{4!(9 - 4)!} = 126\\\\\n",
    "    _9C_5 &= \\dfrac{9!}{5!(9 - 5)!} = 126\\\\\n",
    "    _9C_6 &= \\dfrac{9!}{6!(9 - 6)!} = 84\\\\\n",
    "    _9C_7 &= \\dfrac{9!}{7!(9 - 7)!} = 36\\\\\n",
    "    _9C_8 &= \\dfrac{9!}{8!(9 - 8)!} = 9\\\\\n",
    "    _9C_9 &= \\dfrac{9!}{9!(9 - 9)!} = 1\\\\\n",
    "    &= 1 + 9 + 36 + 84 + 126 + 126 + 84 + 36 + 9 + 1 = 512\n",
    "\\end{align}\n",
    "$$\n",
    "\n",
    "Por lo tanto se pueden formar *512* combinaciones de hamburguesas."
   ]
  },
  {
   "cell_type": "code",
   "execution_count": 6,
   "metadata": {},
   "outputs": [
    {
     "name": "stdout",
     "output_type": "stream",
     "text": [
      "Hay 512 combinaciones de hamburguesas\n"
     ]
    }
   ],
   "source": [
    "# Implementacion de la solucion del ejercicio 12\n",
    "\n",
    "from math import factorial\n",
    "\n",
    "def com(n, r):\n",
    "    return factorial(n) // (factorial(r) * factorial(n-r))\n",
    "\n",
    "to_com = 0\n",
    "for r in range(10):\n",
    "    to_com += com(9, r)\n",
    "print(f\"Hay {int(to_com)} combinaciones de hamburguesas\")\n",
    "\n"
   ]
  },
  {
   "cell_type": "markdown",
   "metadata": {},
   "source": [
    "# Ejercicio 13\n",
    "Cultura. Una persona tiene un libro de cada uno de los autores siguientes: Mario Vargas Llosa, Alberto Ruy Sánchez, Gabriel García Márquez, Günther Grass, Patrick Süskind, Heinrich Böll, Arturo Pérez-Reverte y Camilo José Cela. Como aún no los ha leído, quiere ponerlos en una repisa cerca de su cama. De acuerdo con esto, determina:\n",
    "\n",
    "**a)** ¿De cuántas formas puede acomodar los libros sobre la repisa?\n",
    "\n",
    "Dado que tenemos 8 autores diferentes, y no hay restricciones, podemos calcular el factorial de 8, ya que el uso de la notación factorial permite reducir cálculos cuando no es tan sencillo enumerar los elementos de un conjunto.\n",
    "En este caso, haciendo uso de la notación factorial:\n",
    "\n",
    "$$\n",
    "n! = n * (n - 1) * (n - 2) . . . 3 * 2 * 1\n",
    "$$\n",
    "Remplazando los datos tenemos:\n",
    "$$\n",
    "8! = 8 * 7 * 6 * 5 * 4 * 3 * 2 * 1\n",
    "$$\n",
    "Dando un total de:\n",
    "$$\n",
    "40320\n",
    "$$\n",
    "Por lo que \n",
    "$$\n",
    "8! = 40320\n",
    "$$\n",
    "Entonces, al no haber restricciones existen ***40,320*** formas de acomodar los libros sobre la repisa.\n",
    "\n",
    "\n"
   ]
  },
  {
   "cell_type": "code",
   "execution_count": 2,
   "metadata": {},
   "outputs": [],
   "source": [
    "import math"
   ]
  },
  {
   "cell_type": "markdown",
   "metadata": {},
   "source": [
    "# Ejercicio 13\n",
    "Cultura. Una persona tiene un libro de cada uno de los autores siguientes: Mario Vargas Llosa, Alberto Ruy Sánchez, Gabriel García Márquez, Günther Grass, Patrick Süskind, Heinrich Böll, Arturo Pérez-Reverte y Camilo José Cela. Como aún no los ha leído, quiere ponerlos en una repisa cerca de su cama. De acuerdo con esto, determina:\n",
    "\n",
    "**a)** ¿De cuántas formas puede acomodar los libros sobre la repisa?\n",
    "\n",
    "Dado que tenemos 8 autores diferentes, y no hay restricciones, podemos calcular el factorial de 8, ya que el uso de la notación factorial permite reducir cálculos cuando no es tan sencillo enumerar los elementos de un conjunto.\n",
    "En este caso, haciendo uso de la notación factorial:\n",
    "\n",
    "$$\n",
    "n! = n * (n - 1) * (n - 2) . . . 3 * 2 * 1\n",
    "$$\n",
    "Remplazando los datos tenemos:\n",
    "$$\n",
    "8! = 8 * 7 * 6 * 5 * 4 * 3 * 2 * 1\n",
    "$$\n",
    "Dando un total de:\n",
    "$$\n",
    "40320\n",
    "$$\n",
    "Por lo que \n",
    "$$\n",
    "8! = 40320\n",
    "$$\n",
    "Entonces, al no haber restricciones existen ***40,320*** formas de acomodar los libros sobre la repisa.\n",
    "\n"
   ]
  },
  {
   "cell_type": "code",
   "execution_count": 3,
   "metadata": {},
   "outputs": [
    {
     "name": "stdout",
     "output_type": "stream",
     "text": [
      "Hay 40320 combinaciones posibles con los 8 libros de autores diferentes.\n"
     ]
    }
   ],
   "source": [
    "# Implementacion de la solucion del inciso a) del ejercicio 13\n",
    "numbers_of_combinations = math.factorial(8)\n",
    "print(f'Hay {numbers_of_combinations} combinaciones posibles con los 8 libros de autores diferentes.')"
   ]
  },
  {
   "cell_type": "markdown",
   "metadata": {},
   "source": [
    "**b)** ¿De cuántas maneras puede ordenar los si quiere que los libros de autores latinoamericanos estén juntos?\n",
    "\n",
    "| Nombre  |  Nacionalidad           |\n",
    "|---|---|\n",
    "| Mario Vargas Llosa     | Peruana |\n",
    "| Alberto Ruy Sánchez    | Mexicana      |\n",
    "| Gabriel García Márquez   | Colombiana        |\n",
    "| Günther Grass  | Alemana |\n",
    "| Patrick Süskind | Alemana |\n",
    "| Heinrich Böll | Alemana |\n",
    "| Arturo Pérez-Reverte  | Española |\n",
    "| Camilo José Cela | Española |\n",
    "\n",
    "Tomando en cuenta los datos presentados en la tabla, podemos observar que tenemos 3 autores latinoamericanos, a los cuales podemos considerar un bloque teniendo así un total de 6 elementos(cinco autores diversos y el bloque de autores latinos), con esto podemos multiplicar el factorial de seis por el factorial de tres, ya que como se puede alterar el orden de los 6 elementos, de la misma manera se puede alterar el orden dentro del bloque de autores latinos:  \n",
    "\n",
    "\n",
    "\n",
    " \n",
    " \n",
    "  \n",
    "\n",
    "$$\n",
    "\\begin{align}\n",
    "    b &= 6! * 3!\\\\\n",
    "    b &= 720 * 6\\\\\n",
    "    b &= 4320\n",
    "\\end{align}\n",
    "$$\n",
    "\n",
    "Por lo que en caso de que los libros de autores latinoamericanos deban de estar juntos, existen ***4320*** combinaciones."
   ]
  },
  {
   "cell_type": "code",
   "execution_count": 4,
   "metadata": {},
   "outputs": [
    {
     "name": "stdout",
     "output_type": "stream",
     "text": [
      "Hay 4320 combinaciones posibles en caso de que los autores latinos tengan que estar juntos.\n"
     ]
    }
   ],
   "source": [
    "# Implementacion de la solucion del inciso b) del ejercicio 13\n",
    "combinations_of_six_elements = math.factorial(6) * math.factorial(3)\n",
    "print(f'Hay {combinations_of_six_elements} combinaciones posibles en caso de que los autores latinos tengan que estar juntos.')"
   ]
  },
  {
   "cell_type": "markdown",
   "metadata": {},
   "source": [
    "**c)** ¿De cuántas formas puede acomodarlos, si los autores latinoamericanos deben estar juntos, así como los autores alemanes y los españoles también?\n",
    "\n",
    "| Nombre  |  Nacionalidad           |\n",
    "|---|---|\n",
    "| Mario Vargas Llosa     | Peruana |\n",
    "| Alberto Ruy Sánchez    | Mexicana      |\n",
    "| Gabriel García Márquez   | Colombiana        |\n",
    "| Günther Grass  | Alemana |\n",
    "| Patrick Süskind | Alemana |\n",
    "| Heinrich Böll | Alemana |\n",
    "| Arturo Pérez-Reverte  | Española |\n",
    "| Camilo José Cela | Española |\n",
    "\n",
    "Dado que tenemos 3 grupos de autores, y en esos grupos tenemos tres latinos, tres alemanes, y dos españoles,  podemos calcular el factorial de cada número de autores, y a final multiplicarlo por el número de grupos existentes.\n",
    "$$\n",
    "\\begin{align}\n",
    "    c &= (3! * 3! * 2!) * 3!\\\\\n",
    "    c &= (6 * 6 * 2) * 6\\\\\n",
    "    c &= 432\n",
    "\\end{align}\n",
    "$$\n",
    "Por lo que en caso de tener que ordenar los libros en grupos de autores latinos, alemanes y españoles, tenemos un total de ***432*** combinaciones.\n"
   ]
  },
  {
   "cell_type": "code",
   "execution_count": 5,
   "metadata": {},
   "outputs": [
    {
     "name": "stdout",
     "output_type": "stream",
     "text": [
      "Existen un total de 432 combinaciones en caso de tener que juntar los libros en grupos de latinos, alemanes y españoles.\n"
     ]
    }
   ],
   "source": [
    "# Implementacion de la solucion del inciso c) del ejercicio 13\n",
    "combinations_of_three_groups = (math.factorial(3) * math.factorial(3) * math.factorial(2)) * math.factorial(3)\n",
    "print(f'Existen un total de {combinations_of_three_groups} combinaciones en caso de tener que juntar los libros en grupos de latinos, alemanes y españoles.')"
   ]
  },
  {
   "cell_type": "markdown",
   "metadata": {},
   "source": [
    "**d)** Determina las probabilidades correspondientes a los incisos (b) y (c).  \n",
    "Al momento de calcular las probabilidades dividimos hacemos uso del cálculo de probabilidad:    \n",
    "Donde en caso de querer calcular la probabilidad de un evento (A):\n",
    "$$\n",
    "\\begin{align}\n",
    "    P(A) = \\dfrac{Casos Favorables}{CasosPosibles}\n",
    "\\end{align}\n",
    "$$\n",
    "Haciendo uso del cálculo de probabilidad para (b):\n",
    "$$\n",
    "\\begin{align}\n",
    "    P(b) &= \\dfrac{b}{a}\\\\\n",
    "    P(b) &= \\dfrac{4320}{40320}\\\\\n",
    "    P(b) &= 0.107142857\n",
    "\\end{align}\n",
    "$$\n",
    "Y en el caso de (c)\n",
    "\n",
    "$$\n",
    "\\begin{align}\n",
    "    P(c) &= \\dfrac{c}{a}\\\\\n",
    "    P(c) &= \\dfrac{432}{40320}\\\\\n",
    "    P(c) &= 0.010714286\n",
    "\\end{align}\n",
    "$$  \n",
    "\n",
    "  Por lo que:\n",
    "  * La probabilidad de que los libros de los 3 autores latinos estén juntos es de **0.107142857**.\n",
    "  * La probabilidad de que los libros estén juntos según la nacionalidad(Latinos, Alemanes y Españoles) de los autores es de   **0.010714286**"
   ]
  },
  {
   "cell_type": "code",
   "execution_count": 6,
   "metadata": {},
   "outputs": [
    {
     "name": "stdout",
     "output_type": "stream",
     "text": [
      "La probabilidad de que los libros de los 3 autores latinos esten juntos es de 0.10714285714285714\n",
      "La probabilidad de que los libros estén juntos según la nacionalidad de los autores es de 0.010714285714285714\n"
     ]
    }
   ],
   "source": [
    "# Implementacion de la solucion del inciso d) del ejercicio 13\n",
    "probability_of_b = combinations_of_six_elements / numbers_of_combinations\n",
    "\n",
    "probability_of_c = combinations_of_three_groups / numbers_of_combinations\n",
    "\n",
    "print(f'La probabilidad de que los libros de los 3 autores latinos esten juntos es de {probability_of_b}')\n",
    "print(f'La probabilidad de que los libros estén juntos según la nacionalidad de los autores es de {probability_of_c}')"
   ]
  },
  {
   "cell_type": "markdown",
   "metadata": {},
   "source": [
    "# Ejercicio 14\n",
    "Finanzas. Se va a formar un portafolio de inversión de cuatro instrumentos financieros a partir de cinco de renta fija y seis de renta variable. ¿De cuántas maneras podría formarse el portafolio si:\n",
    "\n",
    "**a)** No hay restricciones?  \n",
    "  \n",
    "En este caso, al tener que formar combinaciones de 4 elementos, teniendo un total de 11 elementos(cinco de renta fija y seis de renta variable), recurrimos al uso de la fórmula de combinaciones:  \n",
    "  \n",
    "Esta se usara ya que el ejercicio no indica que  los instrumentos deban tener un orden especifico, por lo cual, al no importar el orden, la fórmula de combinaciones es la indicada.\n",
    "$$\n",
    "nCr = \\dfrac{n!}{r! (n - r)!}\n",
    "$$\n",
    "\n",
    "Donde:    \n",
    "* n es el número total de elementos en el conjunto.  \n",
    "* r es el número de elementos que se quieren seleccionar.  \n",
    "* ! representa el factorial.  \n",
    "\n",
    "Remplazando los valores tenemos:  \n",
    "$$\n",
    "\\begin{align}\n",
    "    _{11}C_{4} &= \\dfrac{11!}{4! (11 - 4)!}\\\\\n",
    "    _{11}C_{4} &= \\dfrac{11!}{4! * 7!}\\\\\n",
    "    _{11}C_{4} &= \\dfrac{39916800}{120960} = 330\\\\\n",
    "    _{11}C_{4} &= 330\n",
    "\\end{align}\n",
    "$$\n",
    "  \n",
    "Por lo que podemos crear **330** combinaciones de 4 elementos,  teniendo 11 en total."
   ]
  },
  {
   "cell_type": "code",
   "execution_count": 7,
   "metadata": {},
   "outputs": [
    {
     "name": "stdout",
     "output_type": "stream",
     "text": [
      "Existen 330 maneras de combinar los 11 elementos en un portafolio de 4\n"
     ]
    }
   ],
   "source": [
    "# Implementacion de la solucion del inciso a) del ejercicio 14\n",
    "combinations_of_four_elements = math.comb(11, 4)\n",
    "print(f'Existen {combinations_of_four_elements} maneras de combinar los 11 elementos en un portafolio de 4')"
   ]
  },
  {
   "cell_type": "markdown",
   "metadata": {},
   "source": [
    "**b)** Debe haber dos instrumentos de renta fija y dos de renta variable?  \n",
    "  \n",
    "Para esto debemos considerar que tenemos cinco de renta fija y seis de renta variable, como se pide que se usen dos de cada tipo de renta, podemos calcular el número de combinaciones de cada uno, y después multiplicarlos, para así obtener el número de combinaciones de cuatro elementos siendo 2 de los cinco de renta fija, y dos de los 6 de renta variable.  \n",
    "  \n",
    "Comenzamos calculando las combinaciones de cada tipo de renta. \n",
    "  \n",
    "En caso de la renta fija: \n",
    "$$\n",
    "\\begin{align}\n",
    "    _{5}C_{2} &= \\dfrac{5!}{2! (5 - 2)!}\\\\\n",
    "    _{5}C_{2} &= \\dfrac{5!}{2! * 3!}\\\\\n",
    "    _{5}C_{2} &= \\dfrac{120}{12} = 10\\\\\n",
    "    _{5}C_{2} &= 10\n",
    "\\end{align}\n",
    "$$  \n",
    "  \n",
    "En caso de la renta variable:  \n",
    "$$\n",
    "\\begin{align}\n",
    "    _{6}C_{2} &= \\dfrac{6!}{2! (6 - 2)!}\\\\\n",
    "    _{6}C_{2} &= \\dfrac{6!}{2! * 4!}\\\\\n",
    "    _{6}C_{2} &= \\dfrac{720}{48} = 15\\\\\n",
    "    _{6}C_{2} &= 15\n",
    "\\end{align}\n",
    "$$  \n",
    "  \n",
    "Entonces al hacer la multiplicación de los valores obtenidos tenemos que:  \n",
    "$$\n",
    "10 * 15 = 150\n",
    "$$\n",
    "Por lo que podemos hacer **150** combinaciones de 4 instrumentos, haciendo uso de 2 elementos de cada tipo de renta."
   ]
  },
  {
   "cell_type": "code",
   "execution_count": 8,
   "metadata": {},
   "outputs": [
    {
     "name": "stdout",
     "output_type": "stream",
     "text": [
      "Existen 150 maneras de combinar los 4 elementos del folder, haciendo uso de 2 elementos de cada tipo de renta.\n"
     ]
    }
   ],
   "source": [
    "# Implementacion de la solucion del inciso b) del ejercicio 14\n",
    "combinations_two_of_each = math.comb(5, 2) * math.comb(6, 2)\n",
    "print(f'Existen {combinations_two_of_each} maneras de combinar los 4 elementos del folder, haciendo uso de 2 elementos de cada tipo de renta.')"
   ]
  },
  {
   "cell_type": "markdown",
   "metadata": {},
   "source": [
    "**c)** No debe haber ningún instrumento de renta fija?  \n",
    "\n",
    "En caso de que no deba de haber ningún instrumento de renta fija(cinco elementos), tenemos que hacer uso solamente de los instrumentos de renta variable(seis elementos), por lo que podemos hacer uso de la fórmula de combinaciones para calcular el número de combinaciones de 4 elementos haciendo uso de los 6 de renta variable.  \n",
    "\n",
    "Entonces:  \n",
    "$$\n",
    "\\begin{align}\n",
    "    _{6}C_{4} &= \\dfrac{6!}{4! (6 - 4)!}\\\\\n",
    "    _{6}C_{4} &= \\dfrac{6!}{4! * 2!}\\\\\n",
    "    _{6}C_{4} &= \\dfrac{720}{48} = 15\\\\\n",
    "    _{6}C_{4} &= 15\n",
    "\\end{align}\n",
    "$$  \n",
    "Por lo que existen **15** combinaciones de 4 elementos al excluir a los instrumentos de renta fija.\n"
   ]
  },
  {
   "cell_type": "code",
   "execution_count": 9,
   "metadata": {},
   "outputs": [
    {
     "name": "stdout",
     "output_type": "stream",
     "text": [
      "Existen 15 maneras de combinar los 4 elementos del folder, haciendo uso solamende los seis instrumentos de renta variable .\n"
     ]
    }
   ],
   "source": [
    "# Implementacion de la solucion del inciso c) del ejercicio 14\n",
    "combinations_using_six_elements = math.comb(6, 4)\n",
    "print(f'Existen {combinations_using_six_elements} maneras de combinar los 4 elementos del folder, haciendo uso solamende los seis instrumentos de renta variable .')"
   ]
  },
  {
   "cell_type": "markdown",
   "metadata": {},
   "source": [
    "**d)** Debe haber tres instrumentos de renta fija?  \n",
    "\n",
    "Para este caso, al tener que incluir tres instrumentos de renta fija, podemos calcular el número de combinaciones de los 5 instrumentos, y después calcular el número de combinaciones del elemento restante con los 6 instrumentos de renta variable, para así al final multiplicarlos y obtener el número total de combinaciones para este caso.  \n",
    "  \n",
    "En caso de la renta fija: \n",
    "$$\n",
    "\\begin{align}\n",
    "    _{5}C_{3} &= \\dfrac{5!}{3! (5 - 3)!}\\\\\n",
    "    _{5}C_{3} &= \\dfrac{5!}{3! * 2!}\\\\\n",
    "    _{5}C_{3} &= \\dfrac{120}{12} = 10\\\\\n",
    "    _{5}C_{3} &= 10\n",
    "\\end{align}\n",
    "$$  \n",
    "  \n",
    "En caso de la renta variable:  \n",
    "$$\n",
    "\\begin{align}\n",
    "    _{6}C_{1} &= \\dfrac{6!}{1! (6 - 1)!}\\\\\n",
    "    _{6}C_{1} &= \\dfrac{6!}{1! * 5!}\\\\\n",
    "    _{6}C_{1} &= \\dfrac{720}{120} = 6\\\\\n",
    "    _{6}C_{1} &= 6\n",
    "\\end{align}\n",
    "$$  \n",
    "  \n",
    "Entonces al hacer la multiplicación de los valores obtenidos tenemos que:  \n",
    "$$\n",
    "10 * 6 = 60\n",
    "$$\n",
    "\n",
    "Por lo que existen **60** combinaciones de cuatro elementos en caso de usar tres de los cinco instrumentos de renta fija y uno de los seis instrumentos de renta variable."
   ]
  },
  {
   "cell_type": "code",
   "execution_count": 10,
   "metadata": {},
   "outputs": [
    {
     "name": "stdout",
     "output_type": "stream",
     "text": [
      "Existen 60 maneras de combinar los 4 elementos del folder, haciendo uso de tres de los cinco instrumentos de renta fija, y uno de los seis instrumentos de renta variable.\n"
     ]
    }
   ],
   "source": [
    "# Implementacion de la solucion del inciso d) del ejercicio 14\n",
    "combinations_using_three_of_five = math.comb(5, 3) * math.comb(6, 1)\n",
    "print(f'Existen {combinations_using_three_of_five} maneras de combinar los 4 elementos del folder, haciendo uso de tres de los cinco instrumentos de renta fija, y uno de los seis instrumentos de renta variable.')"
   ]
  },
  {
   "cell_type": "markdown",
   "metadata": {},
   "source": [
    "**e)** Calcula las probabilidades para los incisos anteriores.  \n",
    "\n",
    "Haciendo uso nuevamente de la formula de la probabilidad:\n",
    "$$\n",
    "\\begin{align}\n",
    "    P(A) = \\dfrac{Casos Favorables}{CasosPosibles}\n",
    "\\end{align}\n",
    "$$\n",
    "Realizamos el cálculo de la probabilidad en caso de cada inciso.   \n",
    "  \n",
    "Probabilidad del inciso (a):\n",
    "$$\n",
    "\\begin{align}\n",
    "    P(b) &= \\dfrac{a}{a}\\\\\n",
    "    P(b) &= \\dfrac{330}{330}\\\\\n",
    "    P(b) &= 1.0\n",
    "\\end{align}\n",
    "$$\n",
    "  \n",
    "Probabilidad del inciso (b):\n",
    "$$\n",
    "\\begin{align}\n",
    "    P(b) &= \\dfrac{b}{a}\\\\\n",
    "    P(b) &= \\dfrac{150}{330}\\\\\n",
    "    P(b) &= 0.454545455\n",
    "\\end{align}\n",
    "$$\n",
    "Probabilidad del inciso (c):\n",
    "\n",
    "$$\n",
    "\\begin{align}\n",
    "    P(c) &= \\dfrac{c}{a}\\\\\n",
    "    P(c) &= \\dfrac{15}{330}\\\\\n",
    "    P(c) &= 0.045454545\n",
    "\\end{align}\n",
    "$$\n",
    "Probabilidad del inciso (d):\n",
    "\n",
    "$$\n",
    "\\begin{align}\n",
    "    P(d) &= \\dfrac{d}{a}\\\\\n",
    "    P(d) &= \\dfrac{60}{330}\\\\\n",
    "    P(d) &= 0.181818182\n",
    "\\end{align}\n",
    "$$  \n",
    "  \n",
    "Por lo que:\n",
    "* La probabilidad del inciso (a) es de **1.0**\n",
    "* La probabilidad de que tengamos dos instrumentos de renta fija y dos de renta variable es de **0.454545455**.\n",
    "* La probabilidad de que no tengamos ningún instrumento de renta fija es de **0.045454545**.\n",
    "* La probabilidad de quetenagmos tres instrumentos de renta fija es de **0.181818182**."
   ]
  },
  {
   "cell_type": "code",
   "execution_count": 11,
   "metadata": {},
   "outputs": [
    {
     "name": "stdout",
     "output_type": "stream",
     "text": [
      "La probabilidad del inciso (a) es de 1.0 \n",
      "La probabilidad de que tengamos dos instrumentos de renta fija y dos de renta variable es de0.45454545454545453\n",
      "La probabilidad de que no tengamos ningún instrumento de renta fija es de 0.045454545454545456\n",
      "La probabilidad de que tenagmos tres instrumentos de renta fija es de 0.18181818181818182\n"
     ]
    }
   ],
   "source": [
    "# Implementacion de la solucion del inciso e) del ejercicio 14\n",
    "probability_of_a = combinations_of_four_elements / combinations_of_four_elements\n",
    "\n",
    "probability_of_b = combinations_two_of_each / combinations_of_four_elements\n",
    "\n",
    "probability_of_c = combinations_using_six_elements / combinations_of_four_elements\n",
    "\n",
    "probability_of_d = combinations_using_three_of_five / combinations_of_four_elements\n",
    "\n",
    "print(f'La probabilidad del inciso (a) es de {probability_of_a} ')\n",
    "print(f'La probabilidad de que tengamos dos instrumentos de renta fija y dos de renta variable es de{probability_of_b}')\n",
    "print(f'La probabilidad de que no tengamos ningún instrumento de renta fija es de {probability_of_c}')\n",
    "print(f'La probabilidad de que tenagmos tres instrumentos de renta fija es de {probability_of_d}')"
   ]
  },
  {
   "cell_type": "markdown",
   "metadata": {},
   "source": [
    "# Ejercicio 15\n",
    "15. Futbol. Tres parejas (tres hombres y tres mujeres) compran boletos para ir a un partido de los Pumas. Cuando llegan al estadio de Ciudad Universitaria les surge la duda de cómo sentarse en la fila. ¿De cuántas maneras pueden hacerlo si:\n",
    "\n",
    "**a)** No hay restricciones?  \n",
    "\n",
    "En este caso, al no haber ninguna restricción, podemos hacer uso de la notación factorial.\n",
    "$$\n",
    "n! = n * (n - 1) * (n - 2) . . . 3 * 2 * 1\n",
    "$$\n",
    "Al tener un total de seis personas(tres hombres y tres mujeres) calculamos 6! para obtener el número total de casos posibles:\n",
    "$$\n",
    "6! = 6 * 5 * 4 * 3 * 2 * 1\n",
    "$$\n",
    "Dando un total de:\n",
    "$$\n",
    "720\n",
    "$$\n",
    "Por lo que \n",
    "$$\n",
    "6! = 720\n",
    "$$\n",
    "Entonces, al no haber restricciones, existen ***720*** formas diferentes en las que se pueden sentar."
   ]
  },
  {
   "cell_type": "code",
   "execution_count": 12,
   "metadata": {},
   "outputs": [
    {
     "name": "stdout",
     "output_type": "stream",
     "text": [
      "Existen 720 formas diferentes en las que se pueden sentar.\n"
     ]
    }
   ],
   "source": [
    "# Implementacion de la solucion del inciso a) del ejercicio 15\n",
    "number_of_combinations = math.factorial(6)\n",
    "print(f'Existen {number_of_combinations} formas diferentes en las que se pueden sentar.')"
   ]
  },
  {
   "cell_type": "markdown",
   "metadata": {},
   "source": [
    "**b)** Los hombres deben sentarse juntos?  \n",
    "  \n",
    "Para el caso en el que los hombres se tengan que sentar juntos, podemos considerar a los tres hombres como un bloque, teniendo así un total de cuatro elementos(tres mujeres y un bloque de hombres), así que calculamos el factorial de cuatro, y como el orden de los hombres dentro del bloque igual se puede alterar, calculamos el factorial de tres. Al tener estos 2 resultados los multiplicamos y obtenemos el número de combinaciones posibles para este caso.  \n",
    "  \n",
    "Primero calculamos 4! y 3!  \n",
    "$$\n",
    "\\begin{align}\n",
    "    4! &= 4 * 3 * 2 * 1\\\\\n",
    "    4! &= 24\\\\\n",
    "    3! &= 3 * 2 * 1\\\\\n",
    "    3! &= 6\n",
    "\\end{align}\n",
    "$$\n",
    "\n",
    "Posteriormente, podemos calcular el producto de los resultados:  \n",
    "  \n",
    "$$\n",
    "24 * 6 = 144\n",
    "$$  \n",
    "\n",
    "Por lo que tenemos **144** combinaciones en caso de que los hombres tengan que estar juntos."
   ]
  },
  {
   "cell_type": "code",
   "execution_count": 13,
   "metadata": {},
   "outputs": [
    {
     "name": "stdout",
     "output_type": "stream",
     "text": [
      "Existen 144 formas diferentes en las que se pueden sentar en caso de que los hombres tengan que estar juntos.\n"
     ]
    }
   ],
   "source": [
    "# Implementacion de la solucion del inciso b) del ejercicio 15\n",
    "men_together = math.factorial(4) * math.factorial(3)\n",
    "print(f'Existen {men_together} formas diferentes en las que se pueden sentar en caso de que los hombres tengan que estar juntos.')"
   ]
  },
  {
   "cell_type": "markdown",
   "metadata": {},
   "source": [
    "**c)** Deben sentarse por parejas?  \n",
    "  \n",
    "Para este caso tenemos que dividir en tres parejas de un hombre y una mujer, para obtener el número de combinaciones posibles tenemos que multiplicar el factorial del número de parejas(tres) por el número de combinaciones de cada pareja, el cual podemos obtener de la siguiente manera:  \n",
    "\n",
    "  Considerando que cada pareja está conformada por dos personas y existen dos formas de combinarse dentro de cada pareja, podemos multiplicar el dos por sí mismo tres veces(número de parejas):\n",
    "$$\n",
    "\\begin{align}\n",
    "    2 * 2 * 2 = 8\n",
    "\\end{align}\n",
    "$$ \n",
    "Ahora podemos calcular el factorial del número de parejas(tres) y multiplicarlo por el número total de las combinaciones dentro de cada pareja(ocho):  \n",
    "$$\n",
    "\\begin{align}\n",
    "    3! &= 3 * 2 * 1\\\\\n",
    "    3! &= 6\\\\\n",
    "    8 * 6 &= 48\n",
    "\\end{align}\n",
    "$$   \n",
    "Por lo que hay **48** combinaciones diferentes en caso de tener que sentarse por parejas."
   ]
  },
  {
   "cell_type": "code",
   "execution_count": 14,
   "metadata": {},
   "outputs": [
    {
     "name": "stdout",
     "output_type": "stream",
     "text": [
      "Existen 48 formas diferentes en las que se pueden ordenar en caso de tener que sentarse por parejas.\n"
     ]
    }
   ],
   "source": [
    "# Implementacion de la solucion del inciso c) del ejercicio 15\n",
    "couples = (2 * 2 * 2) * math.factorial(3)\n",
    "print(f'Existen {couples} formas diferentes en las que se pueden ordenar en caso de tener que sentarse por parejas.')"
   ]
  },
  {
   "cell_type": "markdown",
   "metadata": {},
   "source": [
    "**d)** ¿Cuál es la probabilidad de cada uno de los eventos descritos en los incisos anteriores?  \n",
    "  \n",
    "Haciendo uso nuevamente de la formula de la probabilidad:\n",
    "$$\n",
    "\\begin{align}\n",
    "    P(A) = \\dfrac{Casos Favorables}{CasosPosibles}\n",
    "\\end{align}\n",
    "$$\n",
    "Realizamos el cálculo de la probabilidad en caso de cada inciso.  \n",
    "\n",
    "  Probabilidad del inciso (b):\n",
    "$$\n",
    "\\begin{align}\n",
    "    P(b) &= \\dfrac{a}{a}\\\\\n",
    "    P(b) &= \\dfrac{720}{720}\\\\\n",
    "    P(b) &= 1.0\n",
    "\\end{align}\n",
    "$$  \n",
    "  \n",
    "Probabilidad del inciso (b):\n",
    "$$\n",
    "\\begin{align}\n",
    "    P(b) &= \\dfrac{b}{a}\\\\\n",
    "    P(b) &= \\dfrac{144}{720}\\\\\n",
    "    P(b) &= 0.2\n",
    "\\end{align}\n",
    "$$\n",
    "Probabilidad del inciso (c):\n",
    "\n",
    "$$\n",
    "\\begin{align}\n",
    "    P(c) &= \\dfrac{c}{a}\\\\\n",
    "    P(c) &= \\dfrac{48}{720}\\\\\n",
    "    P(c) &= 0.06666666666666667\n",
    "\\end{align}\n",
    "$$  \n",
    "\n",
    "Por lo que:\n",
    "* La probabilidad del inciso (a) es de **1.0**.\n",
    "* La probabilidad de que los hombres se sienten juntos es de **0.2**.\n",
    "* La probabilidad de que al sentarse queden ordenados en parejas es de **0.06666666666666667**\n"
   ]
  },
  {
   "cell_type": "code",
   "execution_count": 15,
   "metadata": {},
   "outputs": [
    {
     "name": "stdout",
     "output_type": "stream",
     "text": [
      "La probabilidad del inciso (a) es de 1.0\n",
      "La probabilidad de que los hombres se sienten juntos es de 0.2\n",
      "La probabilidad de que al sentarse queden ordenados en parejas es de 0.06666666666666667\n"
     ]
    }
   ],
   "source": [
    "# Implementacion de la solucion del inciso d) del ejercicio 14\n",
    "probability_of_a = number_of_combinations / number_of_combinations\n",
    "\n",
    "probability_of_b = men_together / number_of_combinations\n",
    "\n",
    "probability_of_c = couples / number_of_combinations\n",
    "\n",
    "print(f'La probabilidad del inciso (a) es de {probability_of_a}')\n",
    "print(f'La probabilidad de que los hombres se sienten juntos es de {probability_of_b}')\n",
    "print(f'La probabilidad de que al sentarse queden ordenados en parejas es de {probability_of_c}')"
   ]
  }
 ],
 "metadata": {
  "kaggle": {
   "accelerator": "none",
   "dataSources": [],
   "dockerImageVersionId": 30732,
   "isGpuEnabled": false,
   "isInternetEnabled": false,
   "language": "python",
   "sourceType": "notebook"
  },
  "kernelspec": {
   "display_name": "Python 3 (ipykernel)",
   "language": "python",
   "name": "python3"
  },
  "language_info": {
   "codemirror_mode": {
    "name": "ipython",
    "version": 3
   },
   "file_extension": ".py",
   "mimetype": "text/x-python",
   "name": "python",
   "nbconvert_exporter": "python",
   "pygments_lexer": "ipython3",
   "version": "3.11.4"
  }
 },
 "nbformat": 4,
 "nbformat_minor": 4
}
